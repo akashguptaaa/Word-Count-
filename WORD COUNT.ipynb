{
 "cells": [
  {
   "cell_type": "code",
   "execution_count": 63,
   "metadata": {},
   "outputs": [],
   "source": [
    "file= open(\"list.txt\",\"r\")\n",
    "          \n"
   ]
  },
  {
   "cell_type": "code",
   "execution_count": 64,
   "metadata": {},
   "outputs": [],
   "source": [
    "data= file.read()"
   ]
  },
  {
   "cell_type": "code",
   "execution_count": 65,
   "metadata": {},
   "outputs": [
    {
     "name": "stdout",
     "output_type": "stream",
     "text": [
      "Data analysis is a process of inspecting, cleansing, transforming and modeling data with the goal of discovering useful information, informing conclusion and supporting decision-making. Data analysis has multiple facets and approaches, encompassing diverse techniques under a variety of names, and is used in different business, science, and social science domains. In today's business world, data analysis plays a role in making decisions more scientific and helping businesses operate more effectively.\n",
      "\n",
      "Data mining is a particular data analysis technique that focuses on modeling and knowledge discovery for predictive rather than purely descriptive purposes, while business intelligence covers data analysis that relies heavily on aggregation, focusing mainly on business information.[2] In statistical applications, data analysis can be divided into descriptive statistics, exploratory data analysis (EDA), and confirmatory data analysis (CDA). EDA focuses on discovering new features in the data while CDA focuses on confirming or falsifying existing hypotheses. Predictive analytics focuses on application of statistical models for predictive forecasting or classification, while text analytics applies statistical, linguistic, and structural techniques to extract and classify information from textual sources, a species of unstructured data. All of the above are varieties of data analysis.\n"
     ]
    }
   ],
   "source": [
    "print(data)"
   ]
  },
  {
   "cell_type": "code",
   "execution_count": null,
   "metadata": {},
   "outputs": [],
   "source": []
  },
  {
   "cell_type": "code",
   "execution_count": null,
   "metadata": {},
   "outputs": [],
   "source": []
  },
  {
   "cell_type": "code",
   "execution_count": 66,
   "metadata": {},
   "outputs": [],
   "source": [
    "def word(data):\n",
    "    counts = dict()\n",
    "    words = data.split()\n",
    "\n",
    "    for word in words:\n",
    "        if word in counts:\n",
    "            counts[word] += 1\n",
    "        else:\n",
    "            counts[word] = 1\n",
    "\n",
    "    return counts"
   ]
  },
  {
   "cell_type": "code",
   "execution_count": 67,
   "metadata": {},
   "outputs": [
    {
     "data": {
      "text/plain": [
       "{'Data': 3,\n",
       " 'analysis': 8,\n",
       " 'is': 3,\n",
       " 'a': 5,\n",
       " 'process': 1,\n",
       " 'of': 7,\n",
       " 'inspecting,': 1,\n",
       " 'cleansing,': 1,\n",
       " 'transforming': 1,\n",
       " 'and': 10,\n",
       " 'modeling': 2,\n",
       " 'data': 9,\n",
       " 'with': 1,\n",
       " 'the': 3,\n",
       " 'goal': 1,\n",
       " 'discovering': 2,\n",
       " 'useful': 1,\n",
       " 'information,': 1,\n",
       " 'informing': 1,\n",
       " 'conclusion': 1,\n",
       " 'supporting': 1,\n",
       " 'decision-making.': 1,\n",
       " 'has': 1,\n",
       " 'multiple': 1,\n",
       " 'facets': 1,\n",
       " 'approaches,': 1,\n",
       " 'encompassing': 1,\n",
       " 'diverse': 1,\n",
       " 'techniques': 2,\n",
       " 'under': 1,\n",
       " 'variety': 1,\n",
       " 'names,': 1,\n",
       " 'used': 1,\n",
       " 'in': 3,\n",
       " 'different': 1,\n",
       " 'business,': 1,\n",
       " 'science,': 1,\n",
       " 'social': 1,\n",
       " 'science': 1,\n",
       " 'domains.': 1,\n",
       " 'In': 2,\n",
       " \"today's\": 1,\n",
       " 'business': 3,\n",
       " 'world,': 1,\n",
       " 'plays': 1,\n",
       " 'role': 1,\n",
       " 'making': 1,\n",
       " 'decisions': 1,\n",
       " 'more': 2,\n",
       " 'scientific': 1,\n",
       " 'helping': 1,\n",
       " 'businesses': 1,\n",
       " 'operate': 1,\n",
       " 'effectively.': 1,\n",
       " 'mining': 1,\n",
       " 'particular': 1,\n",
       " 'technique': 1,\n",
       " 'that': 2,\n",
       " 'focuses': 4,\n",
       " 'on': 6,\n",
       " 'knowledge': 1,\n",
       " 'discovery': 1,\n",
       " 'for': 2,\n",
       " 'predictive': 2,\n",
       " 'rather': 1,\n",
       " 'than': 1,\n",
       " 'purely': 1,\n",
       " 'descriptive': 2,\n",
       " 'purposes,': 1,\n",
       " 'while': 3,\n",
       " 'intelligence': 1,\n",
       " 'covers': 1,\n",
       " 'relies': 1,\n",
       " 'heavily': 1,\n",
       " 'aggregation,': 1,\n",
       " 'focusing': 1,\n",
       " 'mainly': 1,\n",
       " 'information.[2]': 1,\n",
       " 'statistical': 2,\n",
       " 'applications,': 1,\n",
       " 'can': 1,\n",
       " 'be': 1,\n",
       " 'divided': 1,\n",
       " 'into': 1,\n",
       " 'statistics,': 1,\n",
       " 'exploratory': 1,\n",
       " '(EDA),': 1,\n",
       " 'confirmatory': 1,\n",
       " '(CDA).': 1,\n",
       " 'EDA': 1,\n",
       " 'new': 1,\n",
       " 'features': 1,\n",
       " 'CDA': 1,\n",
       " 'confirming': 1,\n",
       " 'or': 2,\n",
       " 'falsifying': 1,\n",
       " 'existing': 1,\n",
       " 'hypotheses.': 1,\n",
       " 'Predictive': 1,\n",
       " 'analytics': 2,\n",
       " 'application': 1,\n",
       " 'models': 1,\n",
       " 'forecasting': 1,\n",
       " 'classification,': 1,\n",
       " 'text': 1,\n",
       " 'applies': 1,\n",
       " 'statistical,': 1,\n",
       " 'linguistic,': 1,\n",
       " 'structural': 1,\n",
       " 'to': 1,\n",
       " 'extract': 1,\n",
       " 'classify': 1,\n",
       " 'information': 1,\n",
       " 'from': 1,\n",
       " 'textual': 1,\n",
       " 'sources,': 1,\n",
       " 'species': 1,\n",
       " 'unstructured': 1,\n",
       " 'data.': 1,\n",
       " 'All': 1,\n",
       " 'above': 1,\n",
       " 'are': 1,\n",
       " 'varieties': 1,\n",
       " 'analysis.': 1}"
      ]
     },
     "execution_count": 67,
     "metadata": {},
     "output_type": "execute_result"
    }
   ],
   "source": [
    "word(data)"
   ]
  },
  {
   "cell_type": "code",
   "execution_count": null,
   "metadata": {},
   "outputs": [],
   "source": []
  }
 ],
 "metadata": {
  "kernelspec": {
   "display_name": "Python 3",
   "language": "python",
   "name": "python3"
  },
  "language_info": {
   "codemirror_mode": {
    "name": "ipython",
    "version": 3
   },
   "file_extension": ".py",
   "mimetype": "text/x-python",
   "name": "python",
   "nbconvert_exporter": "python",
   "pygments_lexer": "ipython3",
   "version": "3.7.1"
  }
 },
 "nbformat": 4,
 "nbformat_minor": 2
}
